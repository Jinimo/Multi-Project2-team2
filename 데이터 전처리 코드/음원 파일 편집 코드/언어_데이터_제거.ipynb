{
 "cells": [
  {
   "cell_type": "code",
   "execution_count": 1,
   "id": "6ffeaa47",
   "metadata": {},
   "outputs": [
    {
     "name": "stdout",
     "output_type": "stream",
     "text": [
      "Collecting SpeechRecognition\n",
      "  Downloading SpeechRecognition-3.8.1-py2.py3-none-any.whl (32.8 MB)\n",
      "Installing collected packages: SpeechRecognition\n",
      "Successfully installed SpeechRecognition-3.8.1\n"
     ]
    },
    {
     "name": "stderr",
     "output_type": "stream",
     "text": [
      "WARNING: Ignoring invalid distribution -ip (d:\\anaconda\\envs\\kdig\\lib\\site-packages)\n",
      "WARNING: Ignoring invalid distribution -ip (d:\\anaconda\\envs\\kdig\\lib\\site-packages)\n",
      "WARNING: Ignoring invalid distribution -ip (d:\\anaconda\\envs\\kdig\\lib\\site-packages)\n",
      "WARNING: Ignoring invalid distribution -ip (d:\\anaconda\\envs\\kdig\\lib\\site-packages)\n",
      "WARNING: Ignoring invalid distribution -ip (d:\\anaconda\\envs\\kdig\\lib\\site-packages)\n",
      "WARNING: Ignoring invalid distribution -ip (d:\\anaconda\\envs\\kdig\\lib\\site-packages)\n",
      "WARNING: Ignoring invalid distribution -ip (d:\\anaconda\\envs\\kdig\\lib\\site-packages)\n",
      "WARNING: You are using pip version 22.0.4; however, version 22.1.2 is available.\n",
      "You should consider upgrading via the 'D:\\ANACONDA\\envs\\kdig\\python.exe -m pip install --upgrade pip' command.\n"
     ]
    }
   ],
   "source": [
    "!pip install SpeechRecognition"
   ]
  },
  {
   "cell_type": "code",
   "execution_count": 7,
   "id": "660a4405",
   "metadata": {},
   "outputs": [],
   "source": [
    "import speech_recognition as sr\n",
    "import numpy as np\n",
    "import pandas as pd"
   ]
  },
  {
   "cell_type": "code",
   "execution_count": 36,
   "id": "4459c255",
   "metadata": {},
   "outputs": [],
   "source": [
    "df=pd.read_csv('./train_df_무음제거_15세미만_65세이상.csv')\n",
    "data_list=df['uuid']\n"
   ]
  },
  {
   "cell_type": "code",
   "execution_count": 6,
   "id": "283e45d4",
   "metadata": {},
   "outputs": [],
   "source": [
    "r=sr.Recognizer()"
   ]
  },
  {
   "cell_type": "code",
   "execution_count": 37,
   "id": "5cffb452",
   "metadata": {},
   "outputs": [],
   "source": [
    "file_loc='../public_dataset/processed_dataset/'\n",
    "language_data=[]\n",
    "\n",
    "for file in data_list:\n",
    "    \n",
    "    filename=file+'.wav'\n",
    "    \n",
    "    with sr.AudioFile(file_loc+filename) as source:\n",
    "        audio_text=r.listen(source)\n",
    "\n",
    "    try:\n",
    "        text=r.recognize_google(audio_text)\n",
    "        language_data.append(filename.split(\".\")[0])\n",
    "\n",
    "    except:\n",
    "        continue"
   ]
  },
  {
   "cell_type": "code",
   "execution_count": 38,
   "id": "baeb538d",
   "metadata": {},
   "outputs": [
    {
     "name": "stdout",
     "output_type": "stream",
     "text": [
      "['13b7e91c-a959-4609-abe0-2979f7cb5b27', '8b74a7fe-3bcc-499d-8d4d-79450a050ceb', 'ad4f1929-696a-45db-89ea-265e4853c43c', '0b46659c-2565-49ef-82d2-946ec61eff8b', '22eed319-cb6a-4bb0-a9a0-c8110f3a23b1', '450ae1f5-1fbb-41f7-9a93-8c755cfaf46c', '5b5e2616-1445-4c2c-a1b3-db946cbd145a', 'ab8ecc44-d33a-4e85-8e31-28cfe827fd17', 'd00123d0-397f-43b1-b5d6-bf4584451214']\n"
     ]
    }
   ],
   "source": [
    "print(language_data)"
   ]
  },
  {
   "cell_type": "code",
   "execution_count": 39,
   "id": "80d9ee18",
   "metadata": {},
   "outputs": [
    {
     "data": {
      "text/plain": [
       "123"
      ]
     },
     "execution_count": 39,
     "metadata": {},
     "output_type": "execute_result"
    }
   ],
   "source": [
    "result=[]\n",
    "for data in data_list:\n",
    "    if data not in language_data:\n",
    "        result.append(data)\n",
    "len(result)"
   ]
  },
  {
   "cell_type": "code",
   "execution_count": 42,
   "id": "b56dc417",
   "metadata": {},
   "outputs": [],
   "source": [
    "result_df=df[df['uuid'].isin(result)]\n",
    "result_df.to_csv('train_df_최종본_15세미만_65세이상.csv', index=False)"
   ]
  },
  {
   "cell_type": "code",
   "execution_count": null,
   "id": "110a69aa",
   "metadata": {},
   "outputs": [],
   "source": []
  }
 ],
 "metadata": {
  "kernelspec": {
   "display_name": "Python 3 (ipykernel)",
   "language": "python",
   "name": "python3"
  },
  "language_info": {
   "codemirror_mode": {
    "name": "ipython",
    "version": 3
   },
   "file_extension": ".py",
   "mimetype": "text/x-python",
   "name": "python",
   "nbconvert_exporter": "python",
   "pygments_lexer": "ipython3",
   "version": "3.9.7"
  }
 },
 "nbformat": 4,
 "nbformat_minor": 5
}
