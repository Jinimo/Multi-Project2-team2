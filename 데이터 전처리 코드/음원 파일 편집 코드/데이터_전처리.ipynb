{
 "cells": [
  {
   "cell_type": "code",
   "execution_count": null,
   "metadata": {
    "id": "IUJtF6hVgGpJ"
   },
   "outputs": [],
   "source": [
    "# !pip install noisereduce"
   ]
  },
  {
   "cell_type": "code",
   "execution_count": 1,
   "metadata": {
    "id": "j4FiKd94gGpN"
   },
   "outputs": [],
   "source": [
    "import pandas as pd\n",
    "import numpy as np\n",
    "import librosa\n",
    "import librosa.display\n",
    "from audio_augmentation import add_whitenoise, shift_audio, stratch_audio\n",
    "import noisereduce as nr\n",
    "import glob\n",
    "from genmfcc import gen_mfcc\n",
    "import os\n",
    "import IPython.display as ipd"
   ]
  },
  {
   "cell_type": "code",
   "execution_count": 5,
   "metadata": {
    "id": "2pH68nstgGpO"
   },
   "outputs": [],
   "source": [
    "sr = 16000"
   ]
  },
  {
   "cell_type": "code",
   "execution_count": 2,
   "metadata": {
    "id": "Pr0RWC6lgGpP"
   },
   "outputs": [],
   "source": [
    "def file_transform(sig):\n",
    "    global sr\n",
    "    sig_lst = []\n",
    "    sig=nr.reduce_noise(y=sig, sr=sr, stationary=False)\n",
    "\n",
    "    sig_wn = add_whitenoise(sig)\n",
    "\n",
    "    sig_strech1 = stratch_audio(sig_wn, rate=np.random.randint(1, 25) / 10)\n",
    "\n",
    "    sig_roll = shift_audio(sig_strech1, shift=np.random.randint(-9, 9)*sr)\n",
    "\n",
    "    return sig_roll"
   ]
  },
  {
   "cell_type": "code",
   "execution_count": 3,
   "metadata": {
    "id": "YJ5f2GOygGpP",
    "outputId": "a81f9058-044d-459d-cd19-40f7e5991f5d"
   },
   "outputs": [
    {
     "data": {
      "text/html": [
       "<div>\n",
       "<style scoped>\n",
       "    .dataframe tbody tr th:only-of-type {\n",
       "        vertical-align: middle;\n",
       "    }\n",
       "\n",
       "    .dataframe tbody tr th {\n",
       "        vertical-align: top;\n",
       "    }\n",
       "\n",
       "    .dataframe thead th {\n",
       "        text-align: right;\n",
       "    }\n",
       "</style>\n",
       "<table border=\"1\" class=\"dataframe\">\n",
       "  <thead>\n",
       "    <tr style=\"text-align: right;\">\n",
       "      <th></th>\n",
       "      <th>uuid</th>\n",
       "      <th>cough_detected</th>\n",
       "      <th>SNR</th>\n",
       "      <th>gender</th>\n",
       "      <th>man</th>\n",
       "      <th>respiratory_condition</th>\n",
       "      <th>fever_muscle_pain</th>\n",
       "      <th>COVID-19</th>\n",
       "      <th>healthy</th>\n",
       "      <th>symptomatic</th>\n",
       "      <th>15세미만</th>\n",
       "      <th>15세이상65세미만</th>\n",
       "      <th>65세이상</th>\n",
       "    </tr>\n",
       "  </thead>\n",
       "  <tbody>\n",
       "    <tr>\n",
       "      <th>0</th>\n",
       "      <td>009b1e22-f451-40ae-9cbf-9f1ff5dec022</td>\n",
       "      <td>0.9743</td>\n",
       "      <td>16.461916</td>\n",
       "      <td>male</td>\n",
       "      <td>1</td>\n",
       "      <td>0</td>\n",
       "      <td>0</td>\n",
       "      <td>0</td>\n",
       "      <td>1</td>\n",
       "      <td>0</td>\n",
       "      <td>1</td>\n",
       "      <td>0</td>\n",
       "      <td>0</td>\n",
       "    </tr>\n",
       "    <tr>\n",
       "      <th>1</th>\n",
       "      <td>02bcadc9-b1d1-41d4-9660-2b70216cb81b</td>\n",
       "      <td>0.7553</td>\n",
       "      <td>15.571817</td>\n",
       "      <td>male</td>\n",
       "      <td>1</td>\n",
       "      <td>0</td>\n",
       "      <td>0</td>\n",
       "      <td>0</td>\n",
       "      <td>1</td>\n",
       "      <td>0</td>\n",
       "      <td>1</td>\n",
       "      <td>0</td>\n",
       "      <td>0</td>\n",
       "    </tr>\n",
       "    <tr>\n",
       "      <th>2</th>\n",
       "      <td>040f3aa7-2afc-4ca4-925a-e7e25591fe56</td>\n",
       "      <td>0.9688</td>\n",
       "      <td>13.107982</td>\n",
       "      <td>male</td>\n",
       "      <td>1</td>\n",
       "      <td>0</td>\n",
       "      <td>0</td>\n",
       "      <td>0</td>\n",
       "      <td>1</td>\n",
       "      <td>0</td>\n",
       "      <td>1</td>\n",
       "      <td>0</td>\n",
       "      <td>0</td>\n",
       "    </tr>\n",
       "  </tbody>\n",
       "</table>\n",
       "</div>"
      ],
      "text/plain": [
       "                                   uuid  cough_detected        SNR gender  \\\n",
       "0  009b1e22-f451-40ae-9cbf-9f1ff5dec022          0.9743  16.461916   male   \n",
       "1  02bcadc9-b1d1-41d4-9660-2b70216cb81b          0.7553  15.571817   male   \n",
       "2  040f3aa7-2afc-4ca4-925a-e7e25591fe56          0.9688  13.107982   male   \n",
       "\n",
       "   man  respiratory_condition  fever_muscle_pain  COVID-19  healthy  \\\n",
       "0    1                      0                  0         0        1   \n",
       "1    1                      0                  0         0        1   \n",
       "2    1                      0                  0         0        1   \n",
       "\n",
       "   symptomatic  15세미만  15세이상65세미만  65세이상  \n",
       "0            0      1           0      0  \n",
       "1            0      1           0      0  \n",
       "2            0      1           0      0  "
      ]
     },
     "execution_count": 3,
     "metadata": {},
     "output_type": "execute_result"
    }
   ],
   "source": [
    "files_else = pd.read_csv(\"./train_df_최종본_15세미만_65세이상.csv\")\n",
    "files_else.head(3)"
   ]
  },
  {
   "cell_type": "markdown",
   "metadata": {
    "id": "tTZEVlWqynGv"
   },
   "source": [
    "## 1. 15세 이상 65세 이하 데이터 처리방법"
   ]
  },
  {
   "cell_type": "code",
   "execution_count": null,
   "metadata": {
    "id": "SKCgAlSsgGpQ"
   },
   "outputs": [],
   "source": [
    "filepath = \"../public_dataset/processed_dataset/\"\n",
    "files_1565 = pd.read_csv(\"../public_dataset/train_df_1565.csv\")\n",
    "\n",
    "mfcc_lst = []\n",
    "Y_data=[]\n",
    "\n",
    "for i in files_1565.index:\n",
    "    sig, sr = librosa.load(filepath + files_1565.loc[i, \"uuid\"] + \".wav\", sr = sr)\n",
    "    for _ in range(4):\n",
    "        mfcc_lst.append( gen_mfcc( file_transform(sig) ) )\n",
    "\n",
    "    for _ in range(4):\n",
    "        Y_data.append(list(files_1565.loc[i, 'COVID-19':'healthy'].values))"
   ]
  },
  {
   "cell_type": "markdown",
   "metadata": {
    "id": "WkUHkQ2BzfjU"
   },
   "source": [
    "## 2. 기타(15세 미만 65세 이상 데이터) 데이터 처리 방법"
   ]
  },
  {
   "cell_type": "code",
   "execution_count": 9,
   "metadata": {},
   "outputs": [],
   "source": [
    "import warnings\n",
    "warnings.filterwarnings(action='ignore')"
   ]
  },
  {
   "cell_type": "code",
   "execution_count": 10,
   "metadata": {
    "id": "cJB0VDkWgGpR"
   },
   "outputs": [],
   "source": [
    "filepath = \"../public_dataset/processed_dataset/\"\n",
    "files_else = pd.read_csv(\"./train_df_최종본_15세미만_65세이상.csv\")\n",
    "\n",
    "mfcc_lst_other = []\n",
    "Y_data_other=[]\n",
    "\n",
    "for i in files_else.index:\n",
    "    sig, sr = librosa.load(filepath + files_else.loc[i, \"uuid\"] + \".wav\", sr = sr)\n",
    "    for _ in range(18):\n",
    "        mfcc_lst_other.append( gen_mfcc( file_transform(sig) ) )\n",
    "\n",
    "    for _ in range(18):\n",
    "        Y_data_other.append(list(files_else.loc[i, 'COVID-19':'healthy'].values))"
   ]
  },
  {
   "cell_type": "code",
   "execution_count": 37,
   "metadata": {},
   "outputs": [],
   "source": [
    "import pickle\n",
    "\n",
    "\n",
    "# pickle 파일로 저장\n",
    "with open('mfcc_other.pickle', 'wb') as f:\n",
    "    pickle.dump(mfcc_lst_other, f, pickle.HIGHEST_PROTOCOL)"
   ]
  },
  {
   "cell_type": "code",
   "execution_count": 43,
   "metadata": {},
   "outputs": [],
   "source": [
    "with open('y_feature_other.pickle', 'wb') as f:\n",
    "    pickle.dump(Y_data_other, f, pickle.HIGHEST_PROTOCOL)"
   ]
  },
  {
   "cell_type": "code",
   "execution_count": null,
   "metadata": {},
   "outputs": [],
   "source": []
  }
 ],
 "metadata": {
  "colab": {
   "collapsed_sections": [],
   "name": "데이터_전처리.ipynb",
   "provenance": []
  },
  "interpreter": {
   "hash": "b10743a6073efad4b61ac31858ae9e785f41726804932c77b020dd3e787ed9f2"
  },
  "kernelspec": {
   "display_name": "Python 3 (ipykernel)",
   "language": "python",
   "name": "python3"
  },
  "language_info": {
   "codemirror_mode": {
    "name": "ipython",
    "version": 3
   },
   "file_extension": ".py",
   "mimetype": "text/x-python",
   "name": "python",
   "nbconvert_exporter": "python",
   "pygments_lexer": "ipython3",
   "version": "3.9.7"
  }
 },
 "nbformat": 4,
 "nbformat_minor": 1
}
